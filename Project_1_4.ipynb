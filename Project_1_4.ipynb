{
  "nbformat": 4,
  "nbformat_minor": 0,
  "metadata": {
    "colab": {
      "provenance": []
    },
    "kernelspec": {
      "name": "python3",
      "display_name": "Python 3"
    },
    "language_info": {
      "name": "python"
    }
  },
  "cells": [
    {
      "cell_type": "markdown",
      "source": [
        "## Spotify: Predict the top genre a song belongs to using Machine Learning Classification models."
      ],
      "metadata": {
        "id": "LxYbTyTuaszr"
      }
    },
    {
      "cell_type": "markdown",
      "source": [
        "The aim of this project is to use data from Spotify and capture various attributes of a song. The classification problem aims to predict the \"top genre\" that a song belongs to.We will use Python to carry out Machice Learning tasks.\n",
        "\n",
        "The dataset is readily available from https://www.kaggle.com/datasets/cnic92/spotify-past-decades-songs-50s10s.\n",
        "There are seven seperate files that are downloaded.\n",
        "\n",
        "Using pandas we would first read the seven different files, then combine them making sure we index them correctly. The dimensions of the data is also shown (the reason for this is to see if the  sum of individuals are the same as the one final one shown). The dimension is 667 by 15.\n"
      ],
      "metadata": {
        "id": "QyzWO38ebA0t"
      }
    },
    {
      "cell_type": "code",
      "source": [
        "#import packages needed\n",
        "import pandas as pd\n",
        "import numpy as np\n",
        "import matplotlib.pyplot as plt\n",
        "\n",
        "#call all the data files and put them into one whilst indexing them\n",
        "data = pd.concat(\n",
        "    map(pd.read_csv, ['1950.csv','1960.csv','1970.csv','1980.csv'\n",
        "    ,'1990.csv','2000.csv','2010.csv']),\n",
        "    ignore_index=True)\n",
        "\n",
        "#check the dimensions\n",
        "data.shape"
      ],
      "metadata": {
        "id": "jLbafBKGazTx",
        "colab": {
          "base_uri": "https://localhost:8080/"
        },
        "outputId": "0fd6ede3-43ab-4f01-9fdd-64c9cc7b3851"
      },
      "execution_count": null,
      "outputs": [
        {
          "output_type": "execute_result",
          "data": {
            "text/plain": [
              "(667, 15)"
            ]
          },
          "metadata": {},
          "execution_count": 1
        }
      ]
    },
    {
      "cell_type": "markdown",
      "source": [
        "We can also take a look at the last row to see the index is also coherent to the dimensions shown above. (We also checked the first and last five rows)"
      ],
      "metadata": {
        "id": "CAv1FqN9e8YO"
      }
    },
    {
      "cell_type": "code",
      "source": [
        "#check the indexing\n",
        "#print(len(data.index))\n",
        "#look at the last row\n",
        "print(data.tail(1))"
      ],
      "metadata": {
        "colab": {
          "base_uri": "https://localhost:8080/"
        },
        "id": "v7_91acCe7vM",
        "outputId": "4a833b8f-8557-4bee-aad9-dc9285b9544b"
      },
      "execution_count": null,
      "outputs": [
        {
          "output_type": "stream",
          "name": "stdout",
          "text": [
            "     Number           title         artist top genre  year  bpm  nrgy  dnce  \\\n",
            "666     100  All I Wanna Do  Martin Jensen  big room  2016  112    79    73   \n",
            "\n",
            "     dB  live  val  dur  acous  spch  pop  \n",
            "666  -4     7   56  194     16     7   32  \n"
          ]
        }
      ]
    },
    {
      "cell_type": "markdown",
      "source": [
        "# 1. Pre-processing"
      ],
      "metadata": {
        "id": "qmqXYa0cesJQ"
      }
    },
    {
      "cell_type": "markdown",
      "source": [
        "Preprocessing is one of the most important step in cleaning the data before using any machine learning classification algortithms. This can be done by removing rows that have NULL/NA values. We also check each variables using a histogram.\n",
        "\n",
        "First we look for any values that are NA or NULL, \"top genre\" has 16 NA values, therefore we should remove those rows.  "
      ],
      "metadata": {
        "id": "1rXh43O-elaT"
      }
    },
    {
      "cell_type": "code",
      "source": [
        "#we want to display the coloumns with NA or NULL\n",
        "is_nan = data.isna().sum()\n",
        "is_nan"
      ],
      "metadata": {
        "colab": {
          "base_uri": "https://localhost:8080/"
        },
        "id": "h2f6gxHXemnC",
        "outputId": "20065235-ce9c-4395-a36a-963f33efb990"
      },
      "execution_count": null,
      "outputs": [
        {
          "output_type": "execute_result",
          "data": {
            "text/plain": [
              "Number        0\n",
              "title         0\n",
              "artist        0\n",
              "top genre    16\n",
              "year          0\n",
              "bpm           0\n",
              "nrgy          0\n",
              "dnce          0\n",
              "dB            0\n",
              "live          0\n",
              "val           0\n",
              "dur           0\n",
              "acous         0\n",
              "spch          0\n",
              "pop           0\n",
              "dtype: int64"
            ]
          },
          "metadata": {},
          "execution_count": 3
        }
      ]
    },
    {
      "cell_type": "markdown",
      "source": [
        "We will remove the rows from the data and check again the shape of the data. The dimensions of the data is now 651 by 15"
      ],
      "metadata": {
        "id": "FEIpvS4ygH9D"
      }
    },
    {
      "cell_type": "code",
      "source": [
        "#drop the rows with NA\n",
        "data = data.dropna()\n",
        "data.shape"
      ],
      "metadata": {
        "colab": {
          "base_uri": "https://localhost:8080/"
        },
        "id": "ABL-wHQzgCEu",
        "outputId": "9d4fd6fa-e7c2-4b13-ed2a-626e7e823ce4"
      },
      "execution_count": null,
      "outputs": [
        {
          "output_type": "execute_result",
          "data": {
            "text/plain": [
              "(651, 15)"
            ]
          },
          "metadata": {},
          "execution_count": 4
        }
      ]
    },
    {
      "cell_type": "markdown",
      "source": [
        "We can aslo use see the information of the data such as the column names, the null count and the data types. The data types are integers and three objects."
      ],
      "metadata": {
        "id": "CP05MANagtCB"
      }
    },
    {
      "cell_type": "code",
      "source": [
        "#check if there are any null/na and their data types\n",
        "data.info()"
      ],
      "metadata": {
        "colab": {
          "base_uri": "https://localhost:8080/"
        },
        "id": "MzJ_XiS0gaSA",
        "outputId": "c5afbbf1-aa00-42da-c61d-cb79ceadd7f1"
      },
      "execution_count": null,
      "outputs": [
        {
          "output_type": "stream",
          "name": "stdout",
          "text": [
            "<class 'pandas.core.frame.DataFrame'>\n",
            "Index: 651 entries, 0 to 666\n",
            "Data columns (total 15 columns):\n",
            " #   Column     Non-Null Count  Dtype \n",
            "---  ------     --------------  ----- \n",
            " 0   Number     651 non-null    int64 \n",
            " 1   title      651 non-null    object\n",
            " 2   artist     651 non-null    object\n",
            " 3   top genre  651 non-null    object\n",
            " 4   year       651 non-null    int64 \n",
            " 5   bpm        651 non-null    int64 \n",
            " 6   nrgy       651 non-null    int64 \n",
            " 7   dnce       651 non-null    int64 \n",
            " 8   dB         651 non-null    int64 \n",
            " 9   live       651 non-null    int64 \n",
            " 10  val        651 non-null    int64 \n",
            " 11  dur        651 non-null    int64 \n",
            " 12  acous      651 non-null    int64 \n",
            " 13  spch       651 non-null    int64 \n",
            " 14  pop        651 non-null    int64 \n",
            "dtypes: int64(12), object(3)\n",
            "memory usage: 81.4+ KB\n"
          ]
        }
      ]
    },
    {
      "cell_type": "markdown",
      "source": [
        "Looking at the summary statistics of the data, we see that there maybe some columns that need transformations."
      ],
      "metadata": {
        "id": "Qf45tAzEhD9j"
      }
    },
    {
      "cell_type": "code",
      "source": [
        "#summary statistics of the all columns\n",
        "data.describe()"
      ],
      "metadata": {
        "colab": {
          "base_uri": "https://localhost:8080/",
          "height": 317
        },
        "id": "5zoCKroIhC9P",
        "outputId": "dd2377cc-fe21-415b-b57f-d1f57841d6aa"
      },
      "execution_count": null,
      "outputs": [
        {
          "output_type": "execute_result",
          "data": {
            "text/plain": [
              "           Number         year         bpm        nrgy        dnce  \\\n",
              "count  651.000000   651.000000  651.000000  651.000000  651.000000   \n",
              "mean    48.485407  1994.685100  119.159754   61.741935   60.499232   \n",
              "std     28.642535    17.823772   24.938305   21.601234   14.987418   \n",
              "min      1.000000  1945.000000   62.000000    6.000000   18.000000   \n",
              "25%     24.000000  1979.000000  102.000000   45.000000   51.000000   \n",
              "50%     48.000000  1998.000000  120.000000   65.000000   62.000000   \n",
              "75%     72.000000  2010.000000  134.000000   79.000000   71.000000   \n",
              "max    105.000000  2019.000000  199.000000  100.000000   96.000000   \n",
              "\n",
              "               dB        live         val         dur       acous        spch  \\\n",
              "count  651.000000  651.000000  651.000000  651.000000  651.000000  651.000000   \n",
              "mean    -8.302611   18.113671   57.413210  224.976959   29.331797    6.202765   \n",
              "std      3.658790   14.386296   24.357777   58.975466   28.637424    6.220714   \n",
              "min    -24.000000    2.000000    6.000000   98.000000    0.000000    2.000000   \n",
              "25%    -10.500000    9.000000   39.000000  187.500000    5.500000    3.000000   \n",
              "50%     -8.000000   13.000000   58.000000  219.000000   19.000000    4.000000   \n",
              "75%     -6.000000   23.500000   78.000000  255.000000   51.000000    6.000000   \n",
              "max     -1.000000   93.000000   99.000000  511.000000   99.000000   47.000000   \n",
              "\n",
              "              pop  \n",
              "count  651.000000  \n",
              "mean    63.947773  \n",
              "std     13.165936  \n",
              "min     26.000000  \n",
              "25%     56.000000  \n",
              "50%     66.000000  \n",
              "75%     74.000000  \n",
              "max     94.000000  "
            ],
            "text/html": [
              "\n",
              "  <div id=\"df-32675ede-c200-4477-936c-cfc3e7860914\" class=\"colab-df-container\">\n",
              "    <div>\n",
              "<style scoped>\n",
              "    .dataframe tbody tr th:only-of-type {\n",
              "        vertical-align: middle;\n",
              "    }\n",
              "\n",
              "    .dataframe tbody tr th {\n",
              "        vertical-align: top;\n",
              "    }\n",
              "\n",
              "    .dataframe thead th {\n",
              "        text-align: right;\n",
              "    }\n",
              "</style>\n",
              "<table border=\"1\" class=\"dataframe\">\n",
              "  <thead>\n",
              "    <tr style=\"text-align: right;\">\n",
              "      <th></th>\n",
              "      <th>Number</th>\n",
              "      <th>year</th>\n",
              "      <th>bpm</th>\n",
              "      <th>nrgy</th>\n",
              "      <th>dnce</th>\n",
              "      <th>dB</th>\n",
              "      <th>live</th>\n",
              "      <th>val</th>\n",
              "      <th>dur</th>\n",
              "      <th>acous</th>\n",
              "      <th>spch</th>\n",
              "      <th>pop</th>\n",
              "    </tr>\n",
              "  </thead>\n",
              "  <tbody>\n",
              "    <tr>\n",
              "      <th>count</th>\n",
              "      <td>651.000000</td>\n",
              "      <td>651.000000</td>\n",
              "      <td>651.000000</td>\n",
              "      <td>651.000000</td>\n",
              "      <td>651.000000</td>\n",
              "      <td>651.000000</td>\n",
              "      <td>651.000000</td>\n",
              "      <td>651.000000</td>\n",
              "      <td>651.000000</td>\n",
              "      <td>651.000000</td>\n",
              "      <td>651.000000</td>\n",
              "      <td>651.000000</td>\n",
              "    </tr>\n",
              "    <tr>\n",
              "      <th>mean</th>\n",
              "      <td>48.485407</td>\n",
              "      <td>1994.685100</td>\n",
              "      <td>119.159754</td>\n",
              "      <td>61.741935</td>\n",
              "      <td>60.499232</td>\n",
              "      <td>-8.302611</td>\n",
              "      <td>18.113671</td>\n",
              "      <td>57.413210</td>\n",
              "      <td>224.976959</td>\n",
              "      <td>29.331797</td>\n",
              "      <td>6.202765</td>\n",
              "      <td>63.947773</td>\n",
              "    </tr>\n",
              "    <tr>\n",
              "      <th>std</th>\n",
              "      <td>28.642535</td>\n",
              "      <td>17.823772</td>\n",
              "      <td>24.938305</td>\n",
              "      <td>21.601234</td>\n",
              "      <td>14.987418</td>\n",
              "      <td>3.658790</td>\n",
              "      <td>14.386296</td>\n",
              "      <td>24.357777</td>\n",
              "      <td>58.975466</td>\n",
              "      <td>28.637424</td>\n",
              "      <td>6.220714</td>\n",
              "      <td>13.165936</td>\n",
              "    </tr>\n",
              "    <tr>\n",
              "      <th>min</th>\n",
              "      <td>1.000000</td>\n",
              "      <td>1945.000000</td>\n",
              "      <td>62.000000</td>\n",
              "      <td>6.000000</td>\n",
              "      <td>18.000000</td>\n",
              "      <td>-24.000000</td>\n",
              "      <td>2.000000</td>\n",
              "      <td>6.000000</td>\n",
              "      <td>98.000000</td>\n",
              "      <td>0.000000</td>\n",
              "      <td>2.000000</td>\n",
              "      <td>26.000000</td>\n",
              "    </tr>\n",
              "    <tr>\n",
              "      <th>25%</th>\n",
              "      <td>24.000000</td>\n",
              "      <td>1979.000000</td>\n",
              "      <td>102.000000</td>\n",
              "      <td>45.000000</td>\n",
              "      <td>51.000000</td>\n",
              "      <td>-10.500000</td>\n",
              "      <td>9.000000</td>\n",
              "      <td>39.000000</td>\n",
              "      <td>187.500000</td>\n",
              "      <td>5.500000</td>\n",
              "      <td>3.000000</td>\n",
              "      <td>56.000000</td>\n",
              "    </tr>\n",
              "    <tr>\n",
              "      <th>50%</th>\n",
              "      <td>48.000000</td>\n",
              "      <td>1998.000000</td>\n",
              "      <td>120.000000</td>\n",
              "      <td>65.000000</td>\n",
              "      <td>62.000000</td>\n",
              "      <td>-8.000000</td>\n",
              "      <td>13.000000</td>\n",
              "      <td>58.000000</td>\n",
              "      <td>219.000000</td>\n",
              "      <td>19.000000</td>\n",
              "      <td>4.000000</td>\n",
              "      <td>66.000000</td>\n",
              "    </tr>\n",
              "    <tr>\n",
              "      <th>75%</th>\n",
              "      <td>72.000000</td>\n",
              "      <td>2010.000000</td>\n",
              "      <td>134.000000</td>\n",
              "      <td>79.000000</td>\n",
              "      <td>71.000000</td>\n",
              "      <td>-6.000000</td>\n",
              "      <td>23.500000</td>\n",
              "      <td>78.000000</td>\n",
              "      <td>255.000000</td>\n",
              "      <td>51.000000</td>\n",
              "      <td>6.000000</td>\n",
              "      <td>74.000000</td>\n",
              "    </tr>\n",
              "    <tr>\n",
              "      <th>max</th>\n",
              "      <td>105.000000</td>\n",
              "      <td>2019.000000</td>\n",
              "      <td>199.000000</td>\n",
              "      <td>100.000000</td>\n",
              "      <td>96.000000</td>\n",
              "      <td>-1.000000</td>\n",
              "      <td>93.000000</td>\n",
              "      <td>99.000000</td>\n",
              "      <td>511.000000</td>\n",
              "      <td>99.000000</td>\n",
              "      <td>47.000000</td>\n",
              "      <td>94.000000</td>\n",
              "    </tr>\n",
              "  </tbody>\n",
              "</table>\n",
              "</div>\n",
              "    <div class=\"colab-df-buttons\">\n",
              "\n",
              "  <div class=\"colab-df-container\">\n",
              "    <button class=\"colab-df-convert\" onclick=\"convertToInteractive('df-32675ede-c200-4477-936c-cfc3e7860914')\"\n",
              "            title=\"Convert this dataframe to an interactive table.\"\n",
              "            style=\"display:none;\">\n",
              "\n",
              "  <svg xmlns=\"http://www.w3.org/2000/svg\" height=\"24px\" viewBox=\"0 -960 960 960\">\n",
              "    <path d=\"M120-120v-720h720v720H120Zm60-500h600v-160H180v160Zm220 220h160v-160H400v160Zm0 220h160v-160H400v160ZM180-400h160v-160H180v160Zm440 0h160v-160H620v160ZM180-180h160v-160H180v160Zm440 0h160v-160H620v160Z\"/>\n",
              "  </svg>\n",
              "    </button>\n",
              "\n",
              "  <style>\n",
              "    .colab-df-container {\n",
              "      display:flex;\n",
              "      gap: 12px;\n",
              "    }\n",
              "\n",
              "    .colab-df-convert {\n",
              "      background-color: #E8F0FE;\n",
              "      border: none;\n",
              "      border-radius: 50%;\n",
              "      cursor: pointer;\n",
              "      display: none;\n",
              "      fill: #1967D2;\n",
              "      height: 32px;\n",
              "      padding: 0 0 0 0;\n",
              "      width: 32px;\n",
              "    }\n",
              "\n",
              "    .colab-df-convert:hover {\n",
              "      background-color: #E2EBFA;\n",
              "      box-shadow: 0px 1px 2px rgba(60, 64, 67, 0.3), 0px 1px 3px 1px rgba(60, 64, 67, 0.15);\n",
              "      fill: #174EA6;\n",
              "    }\n",
              "\n",
              "    .colab-df-buttons div {\n",
              "      margin-bottom: 4px;\n",
              "    }\n",
              "\n",
              "    [theme=dark] .colab-df-convert {\n",
              "      background-color: #3B4455;\n",
              "      fill: #D2E3FC;\n",
              "    }\n",
              "\n",
              "    [theme=dark] .colab-df-convert:hover {\n",
              "      background-color: #434B5C;\n",
              "      box-shadow: 0px 1px 3px 1px rgba(0, 0, 0, 0.15);\n",
              "      filter: drop-shadow(0px 1px 2px rgba(0, 0, 0, 0.3));\n",
              "      fill: #FFFFFF;\n",
              "    }\n",
              "  </style>\n",
              "\n",
              "    <script>\n",
              "      const buttonEl =\n",
              "        document.querySelector('#df-32675ede-c200-4477-936c-cfc3e7860914 button.colab-df-convert');\n",
              "      buttonEl.style.display =\n",
              "        google.colab.kernel.accessAllowed ? 'block' : 'none';\n",
              "\n",
              "      async function convertToInteractive(key) {\n",
              "        const element = document.querySelector('#df-32675ede-c200-4477-936c-cfc3e7860914');\n",
              "        const dataTable =\n",
              "          await google.colab.kernel.invokeFunction('convertToInteractive',\n",
              "                                                    [key], {});\n",
              "        if (!dataTable) return;\n",
              "\n",
              "        const docLinkHtml = 'Like what you see? Visit the ' +\n",
              "          '<a target=\"_blank\" href=https://colab.research.google.com/notebooks/data_table.ipynb>data table notebook</a>'\n",
              "          + ' to learn more about interactive tables.';\n",
              "        element.innerHTML = '';\n",
              "        dataTable['output_type'] = 'display_data';\n",
              "        await google.colab.output.renderOutput(dataTable, element);\n",
              "        const docLink = document.createElement('div');\n",
              "        docLink.innerHTML = docLinkHtml;\n",
              "        element.appendChild(docLink);\n",
              "      }\n",
              "    </script>\n",
              "  </div>\n",
              "\n",
              "\n",
              "<div id=\"df-3e3d46c4-7c41-4af5-bcfd-d1c4189fb040\">\n",
              "  <button class=\"colab-df-quickchart\" onclick=\"quickchart('df-3e3d46c4-7c41-4af5-bcfd-d1c4189fb040')\"\n",
              "            title=\"Suggest charts\"\n",
              "            style=\"display:none;\">\n",
              "\n",
              "<svg xmlns=\"http://www.w3.org/2000/svg\" height=\"24px\"viewBox=\"0 0 24 24\"\n",
              "     width=\"24px\">\n",
              "    <g>\n",
              "        <path d=\"M19 3H5c-1.1 0-2 .9-2 2v14c0 1.1.9 2 2 2h14c1.1 0 2-.9 2-2V5c0-1.1-.9-2-2-2zM9 17H7v-7h2v7zm4 0h-2V7h2v10zm4 0h-2v-4h2v4z\"/>\n",
              "    </g>\n",
              "</svg>\n",
              "  </button>\n",
              "\n",
              "<style>\n",
              "  .colab-df-quickchart {\n",
              "      --bg-color: #E8F0FE;\n",
              "      --fill-color: #1967D2;\n",
              "      --hover-bg-color: #E2EBFA;\n",
              "      --hover-fill-color: #174EA6;\n",
              "      --disabled-fill-color: #AAA;\n",
              "      --disabled-bg-color: #DDD;\n",
              "  }\n",
              "\n",
              "  [theme=dark] .colab-df-quickchart {\n",
              "      --bg-color: #3B4455;\n",
              "      --fill-color: #D2E3FC;\n",
              "      --hover-bg-color: #434B5C;\n",
              "      --hover-fill-color: #FFFFFF;\n",
              "      --disabled-bg-color: #3B4455;\n",
              "      --disabled-fill-color: #666;\n",
              "  }\n",
              "\n",
              "  .colab-df-quickchart {\n",
              "    background-color: var(--bg-color);\n",
              "    border: none;\n",
              "    border-radius: 50%;\n",
              "    cursor: pointer;\n",
              "    display: none;\n",
              "    fill: var(--fill-color);\n",
              "    height: 32px;\n",
              "    padding: 0;\n",
              "    width: 32px;\n",
              "  }\n",
              "\n",
              "  .colab-df-quickchart:hover {\n",
              "    background-color: var(--hover-bg-color);\n",
              "    box-shadow: 0 1px 2px rgba(60, 64, 67, 0.3), 0 1px 3px 1px rgba(60, 64, 67, 0.15);\n",
              "    fill: var(--button-hover-fill-color);\n",
              "  }\n",
              "\n",
              "  .colab-df-quickchart-complete:disabled,\n",
              "  .colab-df-quickchart-complete:disabled:hover {\n",
              "    background-color: var(--disabled-bg-color);\n",
              "    fill: var(--disabled-fill-color);\n",
              "    box-shadow: none;\n",
              "  }\n",
              "\n",
              "  .colab-df-spinner {\n",
              "    border: 2px solid var(--fill-color);\n",
              "    border-color: transparent;\n",
              "    border-bottom-color: var(--fill-color);\n",
              "    animation:\n",
              "      spin 1s steps(1) infinite;\n",
              "  }\n",
              "\n",
              "  @keyframes spin {\n",
              "    0% {\n",
              "      border-color: transparent;\n",
              "      border-bottom-color: var(--fill-color);\n",
              "      border-left-color: var(--fill-color);\n",
              "    }\n",
              "    20% {\n",
              "      border-color: transparent;\n",
              "      border-left-color: var(--fill-color);\n",
              "      border-top-color: var(--fill-color);\n",
              "    }\n",
              "    30% {\n",
              "      border-color: transparent;\n",
              "      border-left-color: var(--fill-color);\n",
              "      border-top-color: var(--fill-color);\n",
              "      border-right-color: var(--fill-color);\n",
              "    }\n",
              "    40% {\n",
              "      border-color: transparent;\n",
              "      border-right-color: var(--fill-color);\n",
              "      border-top-color: var(--fill-color);\n",
              "    }\n",
              "    60% {\n",
              "      border-color: transparent;\n",
              "      border-right-color: var(--fill-color);\n",
              "    }\n",
              "    80% {\n",
              "      border-color: transparent;\n",
              "      border-right-color: var(--fill-color);\n",
              "      border-bottom-color: var(--fill-color);\n",
              "    }\n",
              "    90% {\n",
              "      border-color: transparent;\n",
              "      border-bottom-color: var(--fill-color);\n",
              "    }\n",
              "  }\n",
              "</style>\n",
              "\n",
              "  <script>\n",
              "    async function quickchart(key) {\n",
              "      const quickchartButtonEl =\n",
              "        document.querySelector('#' + key + ' button');\n",
              "      quickchartButtonEl.disabled = true;  // To prevent multiple clicks.\n",
              "      quickchartButtonEl.classList.add('colab-df-spinner');\n",
              "      try {\n",
              "        const charts = await google.colab.kernel.invokeFunction(\n",
              "            'suggestCharts', [key], {});\n",
              "      } catch (error) {\n",
              "        console.error('Error during call to suggestCharts:', error);\n",
              "      }\n",
              "      quickchartButtonEl.classList.remove('colab-df-spinner');\n",
              "      quickchartButtonEl.classList.add('colab-df-quickchart-complete');\n",
              "    }\n",
              "    (() => {\n",
              "      let quickchartButtonEl =\n",
              "        document.querySelector('#df-3e3d46c4-7c41-4af5-bcfd-d1c4189fb040 button');\n",
              "      quickchartButtonEl.style.display =\n",
              "        google.colab.kernel.accessAllowed ? 'block' : 'none';\n",
              "    })();\n",
              "  </script>\n",
              "</div>\n",
              "\n",
              "    </div>\n",
              "  </div>\n"
            ],
            "application/vnd.google.colaboratory.intrinsic+json": {
              "type": "dataframe",
              "summary": "{\n  \"name\": \"data\",\n  \"rows\": 8,\n  \"fields\": [\n    {\n      \"column\": \"Number\",\n      \"properties\": {\n        \"dtype\": \"number\",\n        \"std\": 215.9597997341166,\n        \"min\": 1.0,\n        \"max\": 651.0,\n        \"num_unique_values\": 8,\n        \"samples\": [\n          48.485407066052225,\n          48.0,\n          651.0\n        ],\n        \"semantic_type\": \"\",\n        \"description\": \"\"\n      }\n    },\n    {\n      \"column\": \"year\",\n      \"properties\": {\n        \"dtype\": \"number\",\n        \"std\": 785.5925039156564,\n        \"min\": 17.823771744003093,\n        \"max\": 2019.0,\n        \"num_unique_values\": 8,\n        \"samples\": [\n          1994.6850998463901,\n          1998.0,\n          651.0\n        ],\n        \"semantic_type\": \"\",\n        \"description\": \"\"\n      }\n    },\n    {\n      \"column\": \"bpm\",\n      \"properties\": {\n        \"dtype\": \"number\",\n        \"std\": 198.41311520031357,\n        \"min\": 24.938304968636743,\n        \"max\": 651.0,\n        \"num_unique_values\": 8,\n        \"samples\": [\n          119.15975422427036,\n          120.0,\n          651.0\n        ],\n        \"semantic_type\": \"\",\n        \"description\": \"\"\n      }\n    },\n    {\n      \"column\": \"nrgy\",\n      \"properties\": {\n        \"dtype\": \"number\",\n        \"std\": 213.19449868510898,\n        \"min\": 6.0,\n        \"max\": 651.0,\n        \"num_unique_values\": 8,\n        \"samples\": [\n          61.74193548387097,\n          65.0,\n          651.0\n        ],\n        \"semantic_type\": \"\",\n        \"description\": \"\"\n      }\n    },\n    {\n      \"column\": \"dnce\",\n      \"properties\": {\n        \"dtype\": \"number\",\n        \"std\": 212.9772515765569,\n        \"min\": 14.987417780154301,\n        \"max\": 651.0,\n        \"num_unique_values\": 8,\n        \"samples\": [\n          60.49923195084485,\n          62.0,\n          651.0\n        ],\n        \"semantic_type\": \"\",\n        \"description\": \"\"\n      }\n    },\n    {\n      \"column\": \"dB\",\n      \"properties\": {\n        \"dtype\": \"number\",\n        \"std\": 233.03614305813394,\n        \"min\": -24.0,\n        \"max\": 651.0,\n        \"num_unique_values\": 8,\n        \"samples\": [\n          -8.302611367127497,\n          -8.0,\n          651.0\n        ],\n        \"semantic_type\": \"\",\n        \"description\": \"\"\n      }\n    },\n    {\n      \"column\": \"live\",\n      \"properties\": {\n        \"dtype\": \"number\",\n        \"std\": 223.2613226347564,\n        \"min\": 2.0,\n        \"max\": 651.0,\n        \"num_unique_values\": 8,\n        \"samples\": [\n          18.113671274961597,\n          13.0,\n          651.0\n        ],\n        \"semantic_type\": \"\",\n        \"description\": \"\"\n      }\n    },\n    {\n      \"column\": \"val\",\n      \"properties\": {\n        \"dtype\": \"number\",\n        \"std\": 213.90366453157435,\n        \"min\": 6.0,\n        \"max\": 651.0,\n        \"num_unique_values\": 8,\n        \"samples\": [\n          57.41321044546851,\n          58.0,\n          651.0\n        ],\n        \"semantic_type\": \"\",\n        \"description\": \"\"\n      }\n    },\n    {\n      \"column\": \"dur\",\n      \"properties\": {\n        \"dtype\": \"number\",\n        \"std\": 203.10392756043203,\n        \"min\": 58.975466273017425,\n        \"max\": 651.0,\n        \"num_unique_values\": 8,\n        \"samples\": [\n          224.97695852534562,\n          219.0,\n          651.0\n        ],\n        \"semantic_type\": \"\",\n        \"description\": \"\"\n      }\n    },\n    {\n      \"column\": \"acous\",\n      \"properties\": {\n        \"dtype\": \"number\",\n        \"std\": 220.6192496737837,\n        \"min\": 0.0,\n        \"max\": 651.0,\n        \"num_unique_values\": 8,\n        \"samples\": [\n          29.331797235023043,\n          19.0,\n          651.0\n        ],\n        \"semantic_type\": \"\",\n        \"description\": \"\"\n      }\n    },\n    {\n      \"column\": \"spch\",\n      \"properties\": {\n        \"dtype\": \"number\",\n        \"std\": 226.8959070863471,\n        \"min\": 2.0,\n        \"max\": 651.0,\n        \"num_unique_values\": 8,\n        \"samples\": [\n          6.202764976958525,\n          4.0,\n          651.0\n        ],\n        \"semantic_type\": \"\",\n        \"description\": \"\"\n      }\n    },\n    {\n      \"column\": \"pop\",\n      \"properties\": {\n        \"dtype\": \"number\",\n        \"std\": 211.88675540394556,\n        \"min\": 13.165936483701083,\n        \"max\": 651.0,\n        \"num_unique_values\": 8,\n        \"samples\": [\n          63.94777265745007,\n          66.0,\n          651.0\n        ],\n        \"semantic_type\": \"\",\n        \"description\": \"\"\n      }\n    }\n  ]\n}"
            }
          },
          "metadata": {},
          "execution_count": 6
        }
      ]
    },
    {
      "cell_type": "markdown",
      "source": [
        "We can also look at the histograms of the the individual numerial features.\n",
        "\n",
        "The features such as \"live\", \"acous\" and \"spch\" are skewed with long tails. This would make it harder for the machine learning algorithm to detect the patterns needed. The aim here is to make the shape a more bell-shaped curve. We also see that all the scales are different such as \"dB\" and \"bpm\"."
      ],
      "metadata": {
        "id": "dKL8FoR1hb3s"
      }
    },
    {
      "cell_type": "code",
      "source": [
        "#check the distributions using a histograms\n",
        "data.hist(bins=50, figsize=(15,10))\n",
        "plt.show()"
      ],
      "metadata": {
        "colab": {
          "base_uri": "https://localhost:8080/",
          "height": 717
        },
        "id": "iVKXOc_IhZxF",
        "outputId": "867fcda9-ac85-44cf-94c1-2d8ec3094955"
      },
      "execution_count": null,
      "outputs": [
        {
          "output_type": "display_data",
          "data": {
            "text/plain": [
              "<Figure size 1500x1000 with 12 Axes>"
            ],
            "image/png": "[encoded data removed]"
          },
          "metadata": {}
        }
      ]
    },
    {
      "cell_type": "markdown",
      "source": [
        "Lets first transform \"live\", \"acous\" and \"spch\". This is done by using a log transformation.\n",
        "\n",
        "Note that the \"acous\" variable has many zeros, therefore we add one to it before applying the log transformation.\n",
        "\n",
        "The \"log_live\" shows the bell shaped curve we are looking for. However, the \"log_spch\" and the \"log_acous\" do not show the shape needed.\n",
        "\n",
        "We also looked at other transformations such as the square-root, cube-root and the quadratic and cubic powers with them not yielding better results."
      ],
      "metadata": {
        "id": "qDTPL5C4jvQ1"
      }
    },
    {
      "cell_type": "code",
      "source": [
        "#transformation using log\n",
        "#acous has a +1 because of the zeros\n",
        "data[\"log_acous\"] = np.log(data[[\"acous\"]]+1)\n",
        "data[\"log_spch\"] = np.log(data[[\"spch\"]])\n",
        "data[\"log_live\"] = np.log(data[\"live\"])\n",
        "#take a look at the changes\n",
        "data[[\"log_acous\",\"log_spch\",\"log_live\"]].hist(bins=50, figsize=(10,5))\n",
        "plt.show()"
      ],
      "metadata": {
        "colab": {
          "base_uri": "https://localhost:8080/",
          "height": 468
        },
        "id": "cl-TSJmSkpqY",
        "outputId": "a1bd4e2c-70b7-48ff-9af1-e9f9350f7929"
      },
      "execution_count": null,
      "outputs": [
        {
          "output_type": "display_data",
          "data": {
            "text/plain": [
              "<Figure size 1000x500 with 4 Axes>"
            ],
            "image/png": "[encoded data removed]"
          },
          "metadata": {}
        }
      ]
    },
    {
      "cell_type": "markdown",
      "source": [
        "Therefore, the variables that are not needed such as \"Number\", \"title\", \"year\", \"live\", \"spch\" and \"acous\" have been dropped. These variables are either being replaced with their transformations or they provide no insight.\n",
        "\n",
        "The name the new dataset is \"data_tr\" to indicate the transformation that has occured and also a simple reference point back."
      ],
      "metadata": {
        "id": "6p4FwIkll-7g"
      }
    },
    {
      "cell_type": "code",
      "source": [
        "#data that has been transfromed and drop features\n",
        "data_tr = data.drop([\"Number\", \"title\", \"artist\",\"live\",\n",
        "                     \"acous\",\"year\",\"spch\"],\n",
        "                    axis=1)\n",
        "#check the shape\n",
        "data_tr.shape"
      ],
      "metadata": {
        "colab": {
          "base_uri": "https://localhost:8080/"
        },
        "id": "8zc453o1nOOe",
        "outputId": "d159c3f4-cd00-4ae5-b133-36de9f988e48"
      },
      "execution_count": null,
      "outputs": [
        {
          "output_type": "execute_result",
          "data": {
            "text/plain": [
              "(651, 11)"
            ]
          },
          "metadata": {},
          "execution_count": 9
        }
      ]
    },
    {
      "cell_type": "markdown",
      "source": [
        "We should also standardise the scales, this is because the algorithms do not perform well with different scales where the \"bpm\" is between 6 to 199, whereas \"dB\" is between -24 to -1.\n",
        "Using the StandardScaler from the sklearn.preprocessing package, we standardised the scales for all variables.\n",
        "\n",
        "Note we also need to seperate the numerical and categorical data and then scale the numerical data."
      ],
      "metadata": {
        "id": "DgxTkNpHnWCv"
      }
    },
    {
      "cell_type": "code",
      "source": [
        "#import the StandardScaler\n",
        "from sklearn.preprocessing import StandardScaler\n",
        "\n",
        "#call the function\n",
        "scaler = StandardScaler()\n",
        "\n",
        "#seperate the numerical and the categorical variables\n",
        "data_cat = data_tr[\"top genre\"]\n",
        "data_num = data_tr.drop([\"top genre\"], axis=1)\n",
        "\n",
        "#take account of the numerical coloumns\n",
        "data_num_col = data_num.columns\n",
        "\n",
        "#scale and standardise the data\n",
        "data_num = scaler.fit_transform(data_num)\n",
        "\n",
        "#put it back into a dataframe\n",
        "data_num = pd.DataFrame(data_num, columns=data_num_col)"
      ],
      "metadata": {
        "id": "JVwG2PaSnVe2"
      },
      "execution_count": null,
      "outputs": []
    },
    {
      "cell_type": "markdown",
      "source": [
        "A final look at the histograms, we see that most have a bell shaped curve and have a mean around 0. The \"spch\" is still skewed, however it is in the range of the other variables such as \"dur\".\n",
        "\n",
        "Checking if there is any correlations between the variables using heatmap provided by the seaborn package and the correlation funtion. The two variables, \"nrgy\" and \"dB\" are highly postively correlated (0.70). We also see that the \"log_acous\" with the both the \"dB\" and \"nrgy\" are negatively corelated (\"log_acous\" and \"dB\" is -0.44, \"log_acous\" and \"nrgy\" -0.56). There is also little or no correlation between \"val\" and \"log_acous\" (0.0031), this shows that they have no linear relationship, but can have a non-linear relationship."
      ],
      "metadata": {
        "id": "lQQYhzcWsApr"
      }
    },
    {
      "cell_type": "code",
      "source": [
        "#use correlations of the numeric feature\n",
        "corr = data_num.corr()\n",
        "#print correlations\n",
        "print(corr)\n",
        "\n",
        "#import seaborn package\n",
        "import seaborn as sns\n",
        "\n",
        "#plot the heatmap\n",
        "sns.heatmap(corr, xticklabels=corr.columns.values,\n",
        "            yticklabels=corr.columns.values)\n",
        "plt.show()"
      ],
      "metadata": {
        "colab": {
          "base_uri": "https://localhost:8080/",
          "height": 881
        },
        "id": "7-Y8izwsoygC",
        "outputId": "682ebaa4-2d9f-420d-f9be-72b4eec96ea0"
      },
      "execution_count": null,
      "outputs": [
        {
          "output_type": "stream",
          "name": "stdout",
          "text": [
            "                bpm      nrgy      dnce        dB       val       dur  \\\n",
            "bpm        1.000000  0.170619 -0.061565  0.038232  0.078724  0.038544   \n",
            "nrgy       0.170619  1.000000  0.328585  0.704662  0.397615  0.117019   \n",
            "dnce      -0.061565  0.328585  1.000000  0.295100  0.448928  0.048595   \n",
            "dB         0.038232  0.704662  0.295100  1.000000  0.126906  0.027845   \n",
            "val        0.078724  0.397615  0.448928  0.126906  1.000000 -0.120473   \n",
            "dur        0.038544  0.117019  0.048595  0.027845 -0.120473  1.000000   \n",
            "pop        0.059908  0.247193  0.244947  0.363117 -0.118335  0.244683   \n",
            "log_acous -0.148545 -0.560332 -0.274753 -0.442756 -0.108418 -0.129993   \n",
            "log_spch   0.066756  0.266433  0.262769  0.254433  0.097026  0.026746   \n",
            "log_live  -0.009510  0.072293 -0.135528  0.055983  0.003103 -0.064410   \n",
            "\n",
            "                pop  log_acous  log_spch  log_live  \n",
            "bpm        0.059908  -0.148545  0.066756 -0.009510  \n",
            "nrgy       0.247193  -0.560332  0.266433  0.072293  \n",
            "dnce       0.244947  -0.274753  0.262769 -0.135528  \n",
            "dB         0.363117  -0.442756  0.254433  0.055983  \n",
            "val       -0.118335  -0.108418  0.097026  0.003103  \n",
            "dur        0.244683  -0.129993  0.026746 -0.064410  \n",
            "pop        1.000000  -0.343754  0.206209 -0.040749  \n",
            "log_acous -0.343754   1.000000 -0.206207 -0.009196  \n",
            "log_spch   0.206209  -0.206207  1.000000  0.040018  \n",
            "log_live  -0.040749  -0.009196  0.040018  1.000000  \n"
          ]
        },
        {
          "output_type": "display_data",
          "data": {
            "text/plain": [
              "<Figure size 640x480 with 2 Axes>"
            ],
            "image/png": "[encoded data removed]"
          },
          "metadata": {}
        }
      ]
    },
    {
      "cell_type": "markdown",
      "source": [
        "Now that we have preprocessed the numerical variables, let us look into the categorical variables. We see that \"dance pop\" has the most frequent counts (114) and many have a count of 1 such as afrobeat, afropop and british blues.\n",
        "\n",
        "Also notice that there are 115 unique categories with many having a count less than 77.\n",
        "\n",
        "We ran the process using a logisitc regression of both the binary and the multiclass, we found that the performance of the classification was very low (accuracy of 0.2).\n",
        "Therefore we reduced the \"top genre\" target group to only 3, \"dance pop\", \"adult standards\" and \"other\".\n",
        "\n",
        "Leading to the \"others\" genre having 444 counts, which means the \"dance pop\" has 114 and the \"adult standard\" has 93. We also notice that the groups are unbalanced.\n",
        "\n",
        "We seperate the transformed data into two. This will allow us to split it the data."
      ],
      "metadata": {
        "id": "Ue-JF6NGvvx8"
      }
    },
    {
      "cell_type": "code",
      "source": [
        "#recall the transformed data\n",
        "data_tr\n",
        "\n",
        "#check the counts\n",
        "data_tr[\"top genre\"].value_counts()"
      ],
      "metadata": {
        "id": "HtAIr-R_tGfp",
        "colab": {
          "base_uri": "https://localhost:8080/"
        },
        "outputId": "fb7da829-7068-4285-b0d0-f1ba0b789b2c"
      },
      "execution_count": null,
      "outputs": [
        {
          "output_type": "execute_result",
          "data": {
            "text/plain": [
              "top genre\n",
              "dance pop                 114\n",
              "adult standards            93\n",
              "album rock                 77\n",
              "glam rock                  23\n",
              "brill building pop         20\n",
              "                         ... \n",
              "australian talent show      1\n",
              "afrobeat                    1\n",
              "british blues               1\n",
              "afropop                     1\n",
              "aussietronica               1\n",
              "Name: count, Length: 115, dtype: int64"
            ]
          },
          "metadata": {},
          "execution_count": 12
        }
      ]
    },
    {
      "cell_type": "code",
      "source": [
        "#create a group \"other\" if we have less than 80 counts and rename the\n",
        "#the groups which are not above 80 into other\n",
        "for genre in data_tr['top genre'].unique():\n",
        "    if data_tr[data_tr['top genre'] == genre].shape[0] <= 80:\n",
        "        data_tr['top genre'] = data_tr['top genre'].replace(genre, 'other')\n",
        "\n",
        "#show the genres and their counts\n",
        "data_tr['top genre'].value_counts()\n"
      ],
      "metadata": {
        "colab": {
          "base_uri": "https://localhost:8080/"
        },
        "id": "6aLhSyNqXjHT",
        "outputId": "1b4b75b1-f71a-479a-dda9-9fd428d80578"
      },
      "execution_count": null,
      "outputs": [
        {
          "output_type": "execute_result",
          "data": {
            "text/plain": [
              "top genre\n",
              "other              444\n",
              "dance pop          114\n",
              "adult standards     93\n",
              "Name: count, dtype: int64"
            ]
          },
          "metadata": {},
          "execution_count": 13
        }
      ]
    },
    {
      "cell_type": "markdown",
      "source": [
        "# 2. Train-Test Split\n",
        "\n"
      ],
      "metadata": {
        "id": "RT0uDx9qwrzn"
      }
    },
    {
      "cell_type": "markdown",
      "source": [
        "We will begin by first having a data group and a target group. The target group is the \"top genre\" and the data group is the numerical data.\n",
        "\n",
        "We will split the data into a training group and a testing group, with 70%-30% split ratio and a random state where the answers can be replicated."
      ],
      "metadata": {
        "id": "Xpc8hBQPw3YQ"
      }
    },
    {
      "cell_type": "code",
      "source": [
        "#import the train test split model selection\n",
        "from sklearn.model_selection import train_test_split\n",
        "\n",
        "#seperate the features and target groups\n",
        "X = data_tr.drop([\"top genre\"], axis=1)\n",
        "y = data_tr[\"top genre\"]\n",
        "\n",
        "#split the data\n",
        "X_train, X_test, y_train, y_test = train_test_split(X, y, test_size=0.3,\n",
        "                                                    random_state=24)\n",
        "\n",
        "#check the dimension\n",
        "X_train.shape, X_test.shape"
      ],
      "metadata": {
        "id": "0Dts9Xg3w5q_",
        "colab": {
          "base_uri": "https://localhost:8080/"
        },
        "outputId": "ee5e4fb0-8623-472d-acd1-66af983c2363"
      },
      "execution_count": null,
      "outputs": [
        {
          "output_type": "execute_result",
          "data": {
            "text/plain": [
              "((455, 10), (196, 10))"
            ]
          },
          "metadata": {},
          "execution_count": 14
        }
      ]
    },
    {
      "cell_type": "markdown",
      "source": [
        "# 3. Logistic Regression"
      ],
      "metadata": {
        "id": "YwtCTNbQj33R"
      }
    },
    {
      "cell_type": "markdown",
      "source": [
        "Logisitic Regression is a model that is used to estimate that particular instance belong to a specific class. This make is classification model. If a probability of an instance is greater than 0.5 then it is put in to the class \"1\" or it will classified in class \"0\". This makes it a binary classifier [1].\n",
        "\n",
        "We will use the basic logistic regression and compare it with a multiclass approach.\n",
        "\n",
        "The multiclass model is a One-Vs-Rest (OVR) approach, which starts with \"k\" classifiers and have a one class detector. This continues until we have \"k\" classifiers with \"k\" detecters [1].\n",
        "\n",
        "We will fit the models using the \"X_train\" and \"y_train\", then check the performance of the training set which should decide if the model is a good fit.  \n",
        "We will then predict the model with the \"X_test\" and finally evaluate the model using the predicted values with the \"y_test\". This will be done for all the machine learning models.\n",
        "\n",
        "The performance is measured by the confusion matrix which is the preferred measurement for classification problems [1]. The accuracy which is the ratio of correct prediction.\n",
        "The precision which is the accuracy of positive prediction, the recall which is also known as the sensitity or the ratio of postive instances correctly detected by the classifier and finally the F1 score which combines the precision and the recall thus giving us a metric to compare two classifiers [1].\n",
        "\n",
        "The precision and the recall are derived from the confusion matrix. There is inverse relationship between the recall and the recall meaning that increasing the recall would decrease the precision and vice versa."
      ],
      "metadata": {
        "id": "uvK4nPZ_kHUn"
      }
    },
    {
      "cell_type": "code",
      "source": [
        "#import the logisitic regression and the performance metrics\n",
        "from sklearn.linear_model import LogisticRegression\n",
        "from sklearn.metrics import confusion_matrix, accuracy_score\n",
        "from sklearn.metrics import precision_score, recall_score, f1_score\n",
        "\n",
        "\n",
        "#Fit the logistic regression\n",
        "log_reg = LogisticRegression(random_state=24)\n",
        "log_reg.fit(X_train, y_train)\n",
        "\n",
        "#Evaluation with the Training set with 5 rows\n",
        "print(\"Accuracy of training set with 5:\",\n",
        "      accuracy_score(y_train[:5],log_reg.predict(X_train[:5])))\n",
        "\n",
        "#Evaluation with the Training set\n",
        "print(\"Accuracy of training set:\",\n",
        "      accuracy_score(y_train,log_reg.predict(X_train)))\n",
        "\n",
        "#predict using the x test\n",
        "pred = log_reg.predict(X_test)\n",
        "\n",
        "#Evaluation with the testing set\n",
        "print(\"Testing set Performance\" )\n",
        "print(\"Confusion Matrix: \", \"\\n\",\n",
        "      confusion_matrix(y_test, pred))\n",
        "print(\"Accuracy: \", accuracy_score(y_test, pred))\n",
        "print(\"Precision: \", precision_score(y_test, pred, average=\"weighted\"))\n",
        "print(\"Recall: \", recall_score(y_test, pred, average=\"weighted\"))\n",
        "print(\"F1: \", f1_score(y_test, pred, average=\"weighted\"))\n",
        "\n",
        "#Confusion Matrix plot\n",
        "conf_mat = confusion_matrix(y_test, pred)\n",
        "plt.matshow(conf_mat, cmap= plt.cm.rainbow)\n",
        "plt.title(\"Confusion Matrix\")\n",
        "plt.colorbar()\n",
        "plt.show()\n"
      ],
      "metadata": {
        "colab": {
          "base_uri": "https://localhost:8080/",
          "height": 769
        },
        "id": "NmoRl3AxcC0a",
        "outputId": "a9b37e1b-7b79-4d9e-e07c-f7ad62f32760"
      },
      "execution_count": null,
      "outputs": [
        {
          "output_type": "stream",
          "name": "stderr",
          "text": [
            "/usr/local/lib/python3.10/dist-packages/sklearn/linear_model/_logistic.py:458: ConvergenceWarning: lbfgs failed to converge (status=1):\n",
            "STOP: TOTAL NO. of ITERATIONS REACHED LIMIT.\n",
            "\n",
            "Increase the number of iterations (max_iter) or scale the data as shown in:\n",
            "    https://scikit-learn.org/stable/modules/preprocessing.html\n",
            "Please also refer to the documentation for alternative solver options:\n",
            "    https://scikit-learn.org/stable/modules/linear_model.html#logistic-regression\n",
            "  n_iter_i = _check_optimize_result(\n"
          ]
        },
        {
          "output_type": "stream",
          "name": "stdout",
          "text": [
            "Accuracy of training set with 5: 1.0\n",
            "Accuracy of training set: 0.6857142857142857\n",
            "Testing set Performance\n",
            "Confusion Matrix:  \n",
            " [[  5   0  20]\n",
            " [  0   4  31]\n",
            " [  3   9 124]]\n",
            "Accuracy:  0.6785714285714286\n",
            "Precision:  0.6263262502803318\n",
            "Recall:  0.6785714285714286\n",
            "F1:  0.6217308759224238\n"
          ]
        },
        {
          "output_type": "display_data",
          "data": {
            "text/plain": [
              "<Figure size 480x480 with 2 Axes>"
            ],
            "image/png": "[encoded data removed]"
          },
          "metadata": {}
        }
      ]
    },
    {
      "cell_type": "markdown",
      "source": [
        "A quick look at the performance of the training set with 5 rows has a accuracy of 1.0 meaning it perfectly predicited the genre. However, when we increase the training set the accuracy decreases to 0.70. This shows that the basic logisitc regression might not be the best model. We will explore other models.\n",
        "\n",
        "The accuarcy of the testing set of the logisitic regression is 0.69, the precision is 0.63, the recall is 0.69 and the f1 score is 0.62. This has tripled the improvement of the model classification in all the performance metrics compare to the 115 genres.\n",
        "\n",
        "The confusion matrix plot shows that group two which is \"other\" is prediciting well. We also note that the confusion matrix has very contrasting colours or numbers, this is explained by the \"other\" genre group having 136 while \"dance pop\" and \"adult standards\" having 35 and 25 respectively."
      ],
      "metadata": {
        "id": "TIGjJSR0ZeTk"
      }
    },
    {
      "cell_type": "markdown",
      "source": [
        "#4. One Vs Rest Classifier\n"
      ],
      "metadata": {
        "id": "0wVWdgMGpZzL"
      }
    },
    {
      "cell_type": "code",
      "source": [
        "#import the muticlass OVR classifier\n",
        "from sklearn.multiclass import OneVsRestClassifier\n",
        "\n",
        "#Use the logistic regression\n",
        "log_reg = LogisticRegression(random_state=24)\n",
        "\n",
        "#Use the OVR classifer on the logistic regression\n",
        "ovr = OneVsRestClassifier(log_reg)\n",
        "\n",
        "#fit the OVR classifer\n",
        "ovr.fit(X_train, y_train)\n",
        "\n",
        "#Evaluation with the Training set with 5 rows\n",
        "print(\"Accuracy of training set with 5:\",\n",
        "      accuracy_score(y_train[:5],ovr.predict(X_train[:5])))\n",
        "\n",
        "#Evaluation with the Training set\n",
        "print(\"Accuracy of training set:\",\n",
        "      accuracy_score(y_train,ovr.predict(X_train)))\n",
        "\n",
        "\n",
        "#predict the OVR with the X_test\n",
        "pred = ovr.predict(X_test)\n",
        "\n",
        "\n",
        "#Evaluation with the y_test\n",
        "print(\"Confusion Matrix: \", \"\\n\", confusion_matrix(y_test, pred))\n",
        "print(\"Accuracy: \", accuracy_score(y_test, pred))\n",
        "print(\"Precision: \", precision_score(y_test, pred, average=\"weighted\"))\n",
        "print(\"Recall: \", recall_score(y_test, pred, average=\"weighted\"))\n",
        "print(\"F1: \", f1_score(y_test, pred, average=\"weighted\"))\n",
        "\n",
        "#Confusion Matrix plot\n",
        "conf_mat = confusion_matrix(y_test, pred)\n",
        "plt.matshow(conf_mat, cmap= plt.cm.rainbow)\n",
        "plt.title(\"Confusion Matrix\")\n",
        "plt.colorbar()\n",
        "plt.show()"
      ],
      "metadata": {
        "colab": {
          "base_uri": "https://localhost:8080/",
          "height": 1000
        },
        "id": "r703y2_1X3_B",
        "outputId": "8e8dc520-65ed-48b2-dc05-0b4e650a8ac6"
      },
      "execution_count": null,
      "outputs": [
        {
          "output_type": "stream",
          "name": "stderr",
          "text": [
            "/usr/local/lib/python3.10/dist-packages/sklearn/linear_model/_logistic.py:458: ConvergenceWarning: lbfgs failed to converge (status=1):\n",
            "STOP: TOTAL NO. of ITERATIONS REACHED LIMIT.\n",
            "\n",
            "Increase the number of iterations (max_iter) or scale the data as shown in:\n",
            "    https://scikit-learn.org/stable/modules/preprocessing.html\n",
            "Please also refer to the documentation for alternative solver options:\n",
            "    https://scikit-learn.org/stable/modules/linear_model.html#logistic-regression\n",
            "  n_iter_i = _check_optimize_result(\n",
            "/usr/local/lib/python3.10/dist-packages/sklearn/linear_model/_logistic.py:458: ConvergenceWarning: lbfgs failed to converge (status=1):\n",
            "STOP: TOTAL NO. of ITERATIONS REACHED LIMIT.\n",
            "\n",
            "Increase the number of iterations (max_iter) or scale the data as shown in:\n",
            "    https://scikit-learn.org/stable/modules/preprocessing.html\n",
            "Please also refer to the documentation for alternative solver options:\n",
            "    https://scikit-learn.org/stable/modules/linear_model.html#logistic-regression\n",
            "  n_iter_i = _check_optimize_result(\n",
            "/usr/local/lib/python3.10/dist-packages/sklearn/linear_model/_logistic.py:458: ConvergenceWarning: lbfgs failed to converge (status=1):\n",
            "STOP: TOTAL NO. of ITERATIONS REACHED LIMIT.\n",
            "\n",
            "Increase the number of iterations (max_iter) or scale the data as shown in:\n",
            "    https://scikit-learn.org/stable/modules/preprocessing.html\n",
            "Please also refer to the documentation for alternative solver options:\n",
            "    https://scikit-learn.org/stable/modules/linear_model.html#logistic-regression\n",
            "  n_iter_i = _check_optimize_result(\n"
          ]
        },
        {
          "output_type": "stream",
          "name": "stdout",
          "text": [
            "Accuracy of training set with 5: 1.0\n",
            "Accuracy of training set: 0.6879120879120879\n",
            "Confusion Matrix:  \n",
            " [[  6   0  19]\n",
            " [  0   3  32]\n",
            " [  3   3 130]]\n",
            "Accuracy:  0.7091836734693877\n",
            "Precision:  0.6726848197842674\n",
            "Recall:  0.7091836734693877\n",
            "F1:  0.6402613365112145\n"
          ]
        },
        {
          "output_type": "display_data",
          "data": {
            "text/plain": [
              "<Figure size 480x480 with 2 Axes>"
            ],
            "image/png": "[encoded data removed]"
          },
          "metadata": {}
        }
      ]
    },
    {
      "cell_type": "markdown",
      "source": [
        "The performance of the training set with 5 rows has a accuracy of 1.0 meaning it also perfectly predicted the genre. However, when we increase the training set the accuracy decreases to 0.70 which is the same performance as the simple logostic regression.\n",
        "\n",
        "The accuracy of the testing set of the OVR logistic regression is 0.71, the precision is 0.67, the recall is 0.71 and the f1 score is 0.64.\n",
        "\n",
        "Also the a slight improvement to the simple logistic regression with three classes."
      ],
      "metadata": {
        "id": "6gWm457AaFdy"
      }
    },
    {
      "cell_type": "markdown",
      "source": [
        "# 5. Decision Tree"
      ],
      "metadata": {
        "id": "V8z9nV1NaarL"
      }
    },
    {
      "cell_type": "markdown",
      "source": [
        "Decision Trees are one of the most robost algorithms, which have the capabilties of fitting complex datasets [1]. In our case this would be a good model to fit and predict. This is done with the evaluation of performance of the training set.\n",
        "\n",
        "One feature of the decision tree is that it make few assumptions and is quite adaptive to the training set [1]. This could cause it to overfit [1]. The overfitting is controlled by the max_depth parameter [1]."
      ],
      "metadata": {
        "id": "fOE6onf-afYg"
      }
    },
    {
      "cell_type": "code",
      "source": [
        "#import Decision Tree Classifier\n",
        "from sklearn.tree import DecisionTreeClassifier\n",
        "\n",
        "#fit the tree classifier\n",
        "tree_clf = DecisionTreeClassifier(max_depth=2, random_state=24)\n",
        "tree_clf.fit(X_train, y_train)\n",
        "\n",
        "#Evaluation with the Training set with 5 rows\n",
        "print(\"Accuracy of training set with 5:\",\n",
        "      accuracy_score(y_train[:5],tree_clf.predict(X_train[:5])))\n",
        "\n",
        "#Evaluation with the Training set\n",
        "print(\"Accuracy of training set:\",\n",
        "      accuracy_score(y_train,tree_clf.predict(X_train)))\n",
        "\n",
        "#predict using the X_test\n",
        "pred = tree_clf.predict(X_test)\n",
        "\n",
        "#Evaluation with the y_test\n",
        "print(\"Confusion Matrix: \", \"\\n\", confusion_matrix(y_test, pred))\n",
        "print(\"Accuracy: \", accuracy_score(y_test, pred))\n",
        "print(\"Precision: \", precision_score(y_test, pred, average=\"weighted\"))\n",
        "print(\"Recall: \", recall_score(y_test, pred, average=\"weighted\"))\n",
        "print(\"F1: \", f1_score(y_test, pred, average=\"weighted\"))\n",
        "\n",
        "#Confusion Matrix plot\n",
        "conf_mat = confusion_matrix(y_test, pred)\n",
        "plt.matshow(conf_mat, cmap= plt.cm.rainbow)\n",
        "plt.title(\"Confusion Matrix\")\n",
        "plt.colorbar()\n",
        "plt.show()\n"
      ],
      "metadata": {
        "colab": {
          "base_uri": "https://localhost:8080/",
          "height": 650
        },
        "id": "zkTupxgscTlE",
        "outputId": "0ebbf9fe-6741-46bb-b749-cf6c61d8a127"
      },
      "execution_count": null,
      "outputs": [
        {
          "output_type": "stream",
          "name": "stdout",
          "text": [
            "Accuracy of training set with 5: 0.6\n",
            "Accuracy of training set: 0.6835164835164835\n",
            "Confusion Matrix:  \n",
            " [[ 14   0  11]\n",
            " [  2   0  33]\n",
            " [ 16   0 120]]\n",
            "Accuracy:  0.6836734693877551\n",
            "Precision:  0.5635188526630165\n",
            "Recall:  0.6836734693877551\n",
            "F1:  0.6177586824203366\n"
          ]
        },
        {
          "output_type": "stream",
          "name": "stderr",
          "text": [
            "/usr/local/lib/python3.10/dist-packages/sklearn/metrics/_classification.py:1344: UndefinedMetricWarning: Precision is ill-defined and being set to 0.0 in labels with no predicted samples. Use `zero_division` parameter to control this behavior.\n",
            "  _warn_prf(average, modifier, msg_start, len(result))\n"
          ]
        },
        {
          "output_type": "display_data",
          "data": {
            "text/plain": [
              "<Figure size 480x480 with 2 Axes>"
            ],
            "image/png": "[encoded data removed]"
          },
          "metadata": {}
        }
      ]
    },
    {
      "cell_type": "markdown",
      "source": [
        "The performance of the training set with 5 rows has a accuracy of 0.6. When we increase the training set the accuracy increases to 0.68. This shows that the tree is not a suitable model for this problem.\n",
        "\n",
        "But we will look into the accuracy of testing set of the decision tree is 0.68, the precision is 0.56, the recall is 0.68 and the f1 score is 0.62 at a \"max_depth\" of two.\n",
        "\n",
        "Increasing the \"max_depth\" from two to four has not yeilded an big increase of performance. The only thing that the max_depth has done is dispay the \"other\" class in the tree plot.\n",
        "\n",
        "The confusion matrix plot has made no correct decision on the \"dance pop\" category. The tree diagram shows no \"other\" genre with a depth of two.\n"
      ],
      "metadata": {
        "id": "soKMtA4RcdYK"
      }
    },
    {
      "cell_type": "code",
      "source": [
        "#import tree\n",
        "from sklearn import tree\n",
        "\n",
        "#plot the decision treee\n",
        "plt.figure(figsize=(10,5))\n",
        "tree.plot_tree(tree_clf,class_names=y.unique(),filled=True)\n",
        "plt.show()\n",
        "\n",
        "#making sure we have three unique classes\n",
        "print(y.unique())"
      ],
      "metadata": {
        "colab": {
          "base_uri": "https://localhost:8080/",
          "height": 439
        },
        "id": "Ke1hizqSdG9B",
        "outputId": "b7db64a8-f374-4db1-d6f2-9c290ebb7a8c"
      },
      "execution_count": null,
      "outputs": [
        {
          "output_type": "display_data",
          "data": {
            "text/plain": [
              "<Figure size 1000x500 with 1 Axes>"
            ],
            "image/png": "[encoded data removed]"
          },
          "metadata": {}
        },
        {
          "output_type": "stream",
          "name": "stdout",
          "text": [
            "['adult standards' 'other' 'dance pop']\n"
          ]
        }
      ]
    },
    {
      "cell_type": "markdown",
      "source": [
        "# 6. Random Forests"
      ],
      "metadata": {
        "id": "oKEfpeWpf8l4"
      }
    },
    {
      "cell_type": "markdown",
      "source": [
        "Random forest is an ensamble of the bagging method in the decision tree [1]. This is a more convient way to optimise the decision tree [1]. Also note that the parameters are \"n_estimators\" which is set to  100, we have a \"max_leaf_nodes\" of 16 and \"n_jobs\" of -1.\n",
        "\n",
        "The random forest has extra randomness when we are growing the tree compared to the decision tree [1].\n",
        "This also trades a higher bias for a lower variance [1].\n",
        "\n",
        "We will also use a feature importance to measure the importance of each features.\n"
      ],
      "metadata": {
        "id": "uuEvf2PZz58Q"
      }
    },
    {
      "cell_type": "code",
      "source": [
        "#import the random forest classifier\n",
        "from sklearn.ensemble import RandomForestClassifier\n",
        "\n",
        "#call the random forest with its parameters\n",
        "forest_clf = RandomForestClassifier(n_estimators=100,max_leaf_nodes=16 ,\n",
        "                                    n_jobs=-1, random_state=24)\n",
        "#fit the random forest\n",
        "forest_clf.fit(X_train, y_train)\n",
        "\n",
        "\n",
        "#Evaluation with the Training set with 5 rows\n",
        "print(\"Accuracy of training set with 5:\",\n",
        "      accuracy_score(y_train[:5],forest_clf.predict(X_train[:5])))\n",
        "\n",
        "#Evaluation with the Training set\n",
        "print(\"Accuracy of training set:\",\n",
        "      accuracy_score(y_train,forest_clf.predict(X_train)))\n",
        "\n",
        "#predict using the X_test\n",
        "pred = forest_clf.predict(X_test)\n",
        "\n",
        "#Evaluate the performace of the predicted and the y_test\n",
        "print(\"Confusion Matrix: \", \"\\n\", confusion_matrix(y_test, pred))\n",
        "print(\"Accuracy: \", accuracy_score(y_test, pred))\n",
        "print(\"Precision: \", precision_score(y_test, pred, average=\"weighted\"))\n",
        "print(\"Recall: \", recall_score(y_test, pred, average=\"weighted\"))\n",
        "print(\"F1: \", f1_score(y_test, pred, average=\"weighted\"))\n",
        "\n",
        "#Confusion Matrix plot\n",
        "conf_mat = confusion_matrix(y_test, pred)\n",
        "plt.matshow(conf_mat, cmap= plt.cm.rainbow)\n",
        "plt.title(\"Confusion Matrix\")\n",
        "plt.colorbar()\n",
        "plt.show()\n",
        "\n",
        "#find the features and their importance\n",
        "for name, score in zip(forest_clf.feature_names_in_,\n",
        "                       forest_clf.feature_importances_):\n",
        "    print(name, score)"
      ],
      "metadata": {
        "colab": {
          "base_uri": "https://localhost:8080/",
          "height": 766
        },
        "id": "51XMxFJQ0RkH",
        "outputId": "37b22a55-daad-4d2d-e87f-b33b7b5e5c7d"
      },
      "execution_count": null,
      "outputs": [
        {
          "output_type": "stream",
          "name": "stdout",
          "text": [
            "Accuracy of training set with 5: 1.0\n",
            "Accuracy of training set: 0.7582417582417582\n",
            "Confusion Matrix:  \n",
            " [[ 10   0  15]\n",
            " [  0   0  35]\n",
            " [  4   1 131]]\n",
            "Accuracy:  0.7193877551020408\n",
            "Precision:  0.5933065412431745\n",
            "Recall:  0.7193877551020408\n",
            "F1:  0.6388994811707746\n"
          ]
        },
        {
          "output_type": "display_data",
          "data": {
            "text/plain": [
              "<Figure size 480x480 with 2 Axes>"
            ],
            "image/png": "[encoded data removed]"
          },
          "metadata": {}
        },
        {
          "output_type": "stream",
          "name": "stdout",
          "text": [
            "bpm 0.06875448116847557\n",
            "nrgy 0.16737788112684218\n",
            "dnce 0.12562534933732125\n",
            "dB 0.08665632675129295\n",
            "val 0.06254458301745537\n",
            "dur 0.1484015389234757\n",
            "pop 0.11526592519031657\n",
            "log_acous 0.11934505985030444\n",
            "log_spch 0.053665377161681134\n",
            "log_live 0.05236347747283485\n"
          ]
        }
      ]
    },
    {
      "cell_type": "markdown",
      "source": [
        "Suprisingly, the accuracy of the training set was perfect with 5 rows but decreased as we increased the sample size to 0.78. This shows that of the previous three model, this classification performed the best.\n",
        "\n",
        "The accuracy of the model in the testing set is 0.72, the precision is 0.59, the recall is 0.72 and the f1-score is 0.64. This has performed better than the decision tree. But again it has failed to correctly identify the \"dance pop\" genre just like the decision tree.\n",
        "\n",
        "The random forest and OVR logistic model have the same performance.\n",
        "\n",
        "Looking at the importance feacture we see that \"nrgy\" has the most importance with a value of 0.16 and \"log_live\" has the least importance with a value of 0.052."
      ],
      "metadata": {
        "id": "nR-w7e1q2ast"
      }
    },
    {
      "cell_type": "markdown",
      "source": [
        "# 7. Ensamble Learning: Voting Classifiers"
      ],
      "metadata": {
        "id": "SdXemjP63ZM1"
      }
    },
    {
      "cell_type": "markdown",
      "source": [
        "We will train the all the classifiers such as the logisitic regression, OVR logisitic regression, decision tree and random forest and create a voting classifer using the hard voting parameter."
      ],
      "metadata": {
        "id": "s0epeIbM3mu6"
      }
    },
    {
      "cell_type": "code",
      "source": [
        "#import the ensamble voting classifier\n",
        "from sklearn.ensemble import VotingClassifier\n",
        "\n",
        "#logistic regression\n",
        "log_reg = LogisticRegression(random_state=24)\n",
        "\n",
        "#OVR logisitic regression\n",
        "ovr_log_reg = OneVsRestClassifier(LogisticRegression(random_state=24))\n",
        "#random forest classifier\n",
        "forest_clf = RandomForestClassifier(n_estimators=100,max_leaf_nodes=16,\n",
        "                                    n_jobs=-1, random_state=24)\n",
        "#decision tree classifier\n",
        "tree_clf = DecisionTreeClassifier(max_depth=2, random_state=24)\n",
        "\n",
        "#create the voting classifier\n",
        "voting_clf = VotingClassifier(estimators=[('lr', log_reg),\n",
        "                                           ('ovr_log_reg', ovr_log_reg),\n",
        "                                           ('forest_clf', forest_clf),\n",
        "                                           ('tree_clf', tree_clf)],\n",
        "                              voting='hard')\n",
        "#fit the voting classifier\n",
        "voting_clf.fit(X_train, y_train)\n",
        "\n",
        "#predict each classifier\n",
        "for clf in (log_reg,ovr_log_reg,forest_clf, tree_clf, voting_clf):\n",
        "    clf.fit(X_train, y_train)\n",
        "    y_pred = clf.predict(X_test)\n",
        "    print(clf.__class__.__name__, \"Confusion matrix\" , \"\\n\",\n",
        "          confusion_matrix(y_test, y_pred))\n",
        "    print(clf.__class__.__name__, \"Accuracy :\",\n",
        "          accuracy_score(y_test, y_pred))\n",
        "    print(clf.__class__.__name__, \"Precision :\",\n",
        "          precision_score(y_test, y_pred, average=\"weighted\"))\n",
        "    print(clf.__class__.__name__, \"Recall :\",\n",
        "          recall_score(y_test, y_pred, average=\"weighted\"))\n",
        "    print(clf.__class__.__name__, \"F1 :\",\n",
        "          f1_score(y_test, y_pred, average=\"weighted\"))\n"
      ],
      "metadata": {
        "colab": {
          "base_uri": "https://localhost:8080/"
        },
        "id": "HvlAiDWO3f-y",
        "outputId": "acf65013-10bb-4e68-a59e-78a23994fb93"
      },
      "execution_count": null,
      "outputs": [
        {
          "output_type": "stream",
          "name": "stderr",
          "text": [
            "/usr/local/lib/python3.10/dist-packages/sklearn/linear_model/_logistic.py:458: ConvergenceWarning: lbfgs failed to converge (status=1):\n",
            "STOP: TOTAL NO. of ITERATIONS REACHED LIMIT.\n",
            "\n",
            "Increase the number of iterations (max_iter) or scale the data as shown in:\n",
            "    https://scikit-learn.org/stable/modules/preprocessing.html\n",
            "Please also refer to the documentation for alternative solver options:\n",
            "    https://scikit-learn.org/stable/modules/linear_model.html#logistic-regression\n",
            "  n_iter_i = _check_optimize_result(\n",
            "/usr/local/lib/python3.10/dist-packages/sklearn/linear_model/_logistic.py:458: ConvergenceWarning: lbfgs failed to converge (status=1):\n",
            "STOP: TOTAL NO. of ITERATIONS REACHED LIMIT.\n",
            "\n",
            "Increase the number of iterations (max_iter) or scale the data as shown in:\n",
            "    https://scikit-learn.org/stable/modules/preprocessing.html\n",
            "Please also refer to the documentation for alternative solver options:\n",
            "    https://scikit-learn.org/stable/modules/linear_model.html#logistic-regression\n",
            "  n_iter_i = _check_optimize_result(\n",
            "/usr/local/lib/python3.10/dist-packages/sklearn/linear_model/_logistic.py:458: ConvergenceWarning: lbfgs failed to converge (status=1):\n",
            "STOP: TOTAL NO. of ITERATIONS REACHED LIMIT.\n",
            "\n",
            "Increase the number of iterations (max_iter) or scale the data as shown in:\n",
            "    https://scikit-learn.org/stable/modules/preprocessing.html\n",
            "Please also refer to the documentation for alternative solver options:\n",
            "    https://scikit-learn.org/stable/modules/linear_model.html#logistic-regression\n",
            "  n_iter_i = _check_optimize_result(\n",
            "/usr/local/lib/python3.10/dist-packages/sklearn/linear_model/_logistic.py:458: ConvergenceWarning: lbfgs failed to converge (status=1):\n",
            "STOP: TOTAL NO. of ITERATIONS REACHED LIMIT.\n",
            "\n",
            "Increase the number of iterations (max_iter) or scale the data as shown in:\n",
            "    https://scikit-learn.org/stable/modules/preprocessing.html\n",
            "Please also refer to the documentation for alternative solver options:\n",
            "    https://scikit-learn.org/stable/modules/linear_model.html#logistic-regression\n",
            "  n_iter_i = _check_optimize_result(\n",
            "/usr/local/lib/python3.10/dist-packages/sklearn/linear_model/_logistic.py:458: ConvergenceWarning: lbfgs failed to converge (status=1):\n",
            "STOP: TOTAL NO. of ITERATIONS REACHED LIMIT.\n",
            "\n",
            "Increase the number of iterations (max_iter) or scale the data as shown in:\n",
            "    https://scikit-learn.org/stable/modules/preprocessing.html\n",
            "Please also refer to the documentation for alternative solver options:\n",
            "    https://scikit-learn.org/stable/modules/linear_model.html#logistic-regression\n",
            "  n_iter_i = _check_optimize_result(\n",
            "/usr/local/lib/python3.10/dist-packages/sklearn/linear_model/_logistic.py:458: ConvergenceWarning: lbfgs failed to converge (status=1):\n",
            "STOP: TOTAL NO. of ITERATIONS REACHED LIMIT.\n",
            "\n",
            "Increase the number of iterations (max_iter) or scale the data as shown in:\n",
            "    https://scikit-learn.org/stable/modules/preprocessing.html\n",
            "Please also refer to the documentation for alternative solver options:\n",
            "    https://scikit-learn.org/stable/modules/linear_model.html#logistic-regression\n",
            "  n_iter_i = _check_optimize_result(\n",
            "/usr/local/lib/python3.10/dist-packages/sklearn/linear_model/_logistic.py:458: ConvergenceWarning: lbfgs failed to converge (status=1):\n",
            "STOP: TOTAL NO. of ITERATIONS REACHED LIMIT.\n",
            "\n",
            "Increase the number of iterations (max_iter) or scale the data as shown in:\n",
            "    https://scikit-learn.org/stable/modules/preprocessing.html\n",
            "Please also refer to the documentation for alternative solver options:\n",
            "    https://scikit-learn.org/stable/modules/linear_model.html#logistic-regression\n",
            "  n_iter_i = _check_optimize_result(\n",
            "/usr/local/lib/python3.10/dist-packages/sklearn/linear_model/_logistic.py:458: ConvergenceWarning: lbfgs failed to converge (status=1):\n",
            "STOP: TOTAL NO. of ITERATIONS REACHED LIMIT.\n",
            "\n",
            "Increase the number of iterations (max_iter) or scale the data as shown in:\n",
            "    https://scikit-learn.org/stable/modules/preprocessing.html\n",
            "Please also refer to the documentation for alternative solver options:\n",
            "    https://scikit-learn.org/stable/modules/linear_model.html#logistic-regression\n",
            "  n_iter_i = _check_optimize_result(\n"
          ]
        },
        {
          "output_type": "stream",
          "name": "stdout",
          "text": [
            "LogisticRegression Confusion matrix \n",
            " [[  5   0  20]\n",
            " [  0   4  31]\n",
            " [  3   9 124]]\n",
            "LogisticRegression Accuracy : 0.6785714285714286\n",
            "LogisticRegression Precision : 0.6263262502803318\n",
            "LogisticRegression Recall : 0.6785714285714286\n",
            "LogisticRegression F1 : 0.6217308759224238\n",
            "OneVsRestClassifier Confusion matrix \n",
            " [[  6   0  19]\n",
            " [  0   3  32]\n",
            " [  3   3 130]]\n",
            "OneVsRestClassifier Accuracy : 0.7091836734693877\n",
            "OneVsRestClassifier Precision : 0.6726848197842674\n",
            "OneVsRestClassifier Recall : 0.7091836734693877\n",
            "OneVsRestClassifier F1 : 0.6402613365112145\n",
            "RandomForestClassifier Confusion matrix \n",
            " [[ 10   0  15]\n",
            " [  0   0  35]\n",
            " [  4   1 131]]\n",
            "RandomForestClassifier Accuracy : 0.7193877551020408\n",
            "RandomForestClassifier Precision : 0.5933065412431745\n",
            "RandomForestClassifier Recall : 0.7193877551020408\n",
            "RandomForestClassifier F1 : 0.6388994811707746\n",
            "DecisionTreeClassifier Confusion matrix \n",
            " [[ 14   0  11]\n",
            " [  2   0  33]\n",
            " [ 16   0 120]]\n",
            "DecisionTreeClassifier Accuracy : 0.6836734693877551\n",
            "DecisionTreeClassifier Precision : 0.5635188526630165\n",
            "DecisionTreeClassifier Recall : 0.6836734693877551\n",
            "DecisionTreeClassifier F1 : 0.6177586824203366\n"
          ]
        },
        {
          "output_type": "stream",
          "name": "stderr",
          "text": [
            "/usr/local/lib/python3.10/dist-packages/sklearn/metrics/_classification.py:1344: UndefinedMetricWarning: Precision is ill-defined and being set to 0.0 in labels with no predicted samples. Use `zero_division` parameter to control this behavior.\n",
            "  _warn_prf(average, modifier, msg_start, len(result))\n",
            "/usr/local/lib/python3.10/dist-packages/sklearn/linear_model/_logistic.py:458: ConvergenceWarning: lbfgs failed to converge (status=1):\n",
            "STOP: TOTAL NO. of ITERATIONS REACHED LIMIT.\n",
            "\n",
            "Increase the number of iterations (max_iter) or scale the data as shown in:\n",
            "    https://scikit-learn.org/stable/modules/preprocessing.html\n",
            "Please also refer to the documentation for alternative solver options:\n",
            "    https://scikit-learn.org/stable/modules/linear_model.html#logistic-regression\n",
            "  n_iter_i = _check_optimize_result(\n",
            "/usr/local/lib/python3.10/dist-packages/sklearn/linear_model/_logistic.py:458: ConvergenceWarning: lbfgs failed to converge (status=1):\n",
            "STOP: TOTAL NO. of ITERATIONS REACHED LIMIT.\n",
            "\n",
            "Increase the number of iterations (max_iter) or scale the data as shown in:\n",
            "    https://scikit-learn.org/stable/modules/preprocessing.html\n",
            "Please also refer to the documentation for alternative solver options:\n",
            "    https://scikit-learn.org/stable/modules/linear_model.html#logistic-regression\n",
            "  n_iter_i = _check_optimize_result(\n",
            "/usr/local/lib/python3.10/dist-packages/sklearn/linear_model/_logistic.py:458: ConvergenceWarning: lbfgs failed to converge (status=1):\n",
            "STOP: TOTAL NO. of ITERATIONS REACHED LIMIT.\n",
            "\n",
            "Increase the number of iterations (max_iter) or scale the data as shown in:\n",
            "    https://scikit-learn.org/stable/modules/preprocessing.html\n",
            "Please also refer to the documentation for alternative solver options:\n",
            "    https://scikit-learn.org/stable/modules/linear_model.html#logistic-regression\n",
            "  n_iter_i = _check_optimize_result(\n",
            "/usr/local/lib/python3.10/dist-packages/sklearn/linear_model/_logistic.py:458: ConvergenceWarning: lbfgs failed to converge (status=1):\n",
            "STOP: TOTAL NO. of ITERATIONS REACHED LIMIT.\n",
            "\n",
            "Increase the number of iterations (max_iter) or scale the data as shown in:\n",
            "    https://scikit-learn.org/stable/modules/preprocessing.html\n",
            "Please also refer to the documentation for alternative solver options:\n",
            "    https://scikit-learn.org/stable/modules/linear_model.html#logistic-regression\n",
            "  n_iter_i = _check_optimize_result(\n"
          ]
        },
        {
          "output_type": "stream",
          "name": "stdout",
          "text": [
            "VotingClassifier Confusion matrix \n",
            " [[ 10   0  15]\n",
            " [  0   3  32]\n",
            " [  5   3 128]]\n",
            "VotingClassifier Accuracy : 0.7193877551020408\n",
            "VotingClassifier Precision : 0.6818415937803692\n",
            "VotingClassifier Recall : 0.7193877551020408\n",
            "VotingClassifier F1 : 0.6610740013988499\n"
          ]
        }
      ]
    },
    {
      "cell_type": "markdown",
      "source": [
        "Using all the models above such as the simple Logisitic regression, OVR logisitc regression, decision tree and the random forest model.\n",
        "\n",
        "The voting classifier model has an accuracy of 0.72, a precison of 0.68, recall of 0.72 and a f1 score of 0.66 which is the best score we have produced so far. This means that ensamble learning has produced the best classifier model.\n",
        "\n",
        "The confusion matrix aslo shows that the \"dance pop\" genre has seen three correctly predicted.\n"
      ],
      "metadata": {
        "id": "HZP3VNW548uB"
      }
    },
    {
      "cell_type": "markdown",
      "source": [
        "# 9. Discussion"
      ],
      "metadata": {
        "id": "WXZTZV8N96NO"
      }
    },
    {
      "cell_type": "markdown",
      "source": [
        "The main aspect of this report is the changing the 115 genres in \"top genre\" in to three. We first worked with the 115 genres and found that the performance of all the models were 30% or below. After making three groups, the ratio of the three groups of \"other\", \"dance pop\" and \"adult standards\" is 0.68, 0.18 and 0.14 respectively.\n",
        "\n",
        "The training set performance of the simple and multiclass logisitic regression models both had high accuracy when we had a low number of training set but decreased. This could be a sign of overfitting because of the genre groups being unbalanced.\n",
        "The decision tree had a low performance then increased, this showed some underfitting but slowly as we increase the training set the accuracy increase.\n",
        "The random forest had a same trend as the logisitc regression but the accuracy of the full training set was the highest.\n",
        "\n",
        "The random forest has an important feature hyperparameter, using the information, we dropped any feature that was below 0.1 score. Leading to 5 features being dropped.\n",
        "We ran the model again without the features but had the same performance result. The only difference was that the importance of the remaining features increased, this was due to the reduction of the number of features present.\n",
        "\n",
        "Our model was heavily affected by the preprecessing, having a target data of the \"top genres\" which was unbalanced both before and after changes, which caused our model to not have high performance measures because of the overfitting. A suggestion would be to group different genres in a major genre, for example glam rock and album rock would be under the the major genre \"rock\".\n",
        "\n",
        "The models were chosen because of their application and performance in the training set. But ultimately the best was the ensamble methods worked the best.\n",
        "\n",
        "A suggestion of imporvement would be dropping more features which are statisitically not significant, using other visualizations such as boxplots. Grouping genres together and create a balanced genres in \"top genre\".\n"
      ],
      "metadata": {
        "id": "hn4gNBGf-Tvk"
      }
    },
    {
      "cell_type": "markdown",
      "source": [
        "# 10: Conclusion\n"
      ],
      "metadata": {
        "id": "p_y9bZZBK_9-"
      }
    },
    {
      "cell_type": "markdown",
      "source": [
        "In conclusion, the Ensamble method had the best F1 score which is used to compare different classification model [1]. This means to predict the \"top genre\" (\"adult standards\", \"dance pop\" or \"other\") that a song belongs to given that we have the 10 features provided (\"bpm\", \"nrgy\", \"dnce\", \"dB\", \"val\", \"dur\", \"pop\", \"log_acous\", \"log_spch\" and \"log_live\"). We can accuarately predict it by 72%.\n",
        "Other than the voting classifer the random forrest also performed well in both the training and testing set.\n",
        "\n",
        "This is shown below where we have a new X variable which can represent the features of a new song. And the classification is the \"other\" genre."
      ],
      "metadata": {
        "id": "R-LARQTyLDsx"
      }
    },
    {
      "cell_type": "code",
      "source": [
        "# A new song with the its 10 features\n",
        "#X.columns\n",
        "X_new = [92,80,66,-11,79,123,62,4.5,2.9,4.2]\n",
        "print(voting_clf.predict([X_new]))\n",
        "#print(forest_clf.predict([X_new]))"
      ],
      "metadata": {
        "colab": {
          "base_uri": "https://localhost:8080/"
        },
        "id": "drL3uA6mqrWN",
        "outputId": "762b2e7e-450c-4407-fdf0-af2ab5f5201e"
      },
      "execution_count": null,
      "outputs": [
        {
          "output_type": "stream",
          "name": "stdout",
          "text": [
            "['other']\n"
          ]
        },
        {
          "output_type": "stream",
          "name": "stderr",
          "text": [
            "/usr/local/lib/python3.10/dist-packages/sklearn/base.py:439: UserWarning: X does not have valid feature names, but LogisticRegression was fitted with feature names\n",
            "  warnings.warn(\n",
            "/usr/local/lib/python3.10/dist-packages/sklearn/base.py:439: UserWarning: X does not have valid feature names, but LogisticRegression was fitted with feature names\n",
            "  warnings.warn(\n",
            "/usr/local/lib/python3.10/dist-packages/sklearn/base.py:439: UserWarning: X does not have valid feature names, but LogisticRegression was fitted with feature names\n",
            "  warnings.warn(\n",
            "/usr/local/lib/python3.10/dist-packages/sklearn/base.py:439: UserWarning: X does not have valid feature names, but LogisticRegression was fitted with feature names\n",
            "  warnings.warn(\n",
            "/usr/local/lib/python3.10/dist-packages/sklearn/base.py:439: UserWarning: X does not have valid feature names, but RandomForestClassifier was fitted with feature names\n",
            "  warnings.warn(\n",
            "/usr/local/lib/python3.10/dist-packages/sklearn/base.py:439: UserWarning: X does not have valid feature names, but DecisionTreeClassifier was fitted with feature names\n",
            "  warnings.warn(\n"
          ]
        }
      ]
    },
    {
      "cell_type": "markdown",
      "source": [
        "# References:\n",
        "\n",
        "[1] Geron, A.G, 2019, *Hands-on Machine Learning with Scikit-Learn, Keras, and TensorFlow*, Last Accessed 8 June 2024"
      ],
      "metadata": {
        "id": "8952fZwMJzeD"
      }
    }
  ]
}